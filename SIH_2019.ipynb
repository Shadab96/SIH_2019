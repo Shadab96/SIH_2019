{
 "cells": [
  {
   "cell_type": "code",
   "execution_count": null,
   "metadata": {
    "scrolled": true
   },
   "outputs": [
    {
     "name": "stderr",
     "output_type": "stream",
     "text": [
      "C:\\ProgramData\\Anaconda3\\lib\\site-packages\\h5py\\__init__.py:34: FutureWarning: Conversion of the second argument of issubdtype from `float` to `np.floating` is deprecated. In future, it will be treated as `np.float64 == np.dtype(float).type`.\n",
      "  from ._conv import register_converters as _register_converters\n",
      "Using TensorFlow backend.\n"
     ]
    }
   ],
   "source": [
    "from keras.models import model_from_json\n",
    "json_file = open('C:/Users/shadab/Downloads/model.json', 'r')\n",
    "loaded_model_json = json_file.read()\n",
    "json_file.close()\n",
    "loaded_model = model_from_json(loaded_model_json)\n",
    "# load weights into new model\n",
    "loaded_model.load_weights(\"C:/Users/shadab/Downloads/model.h5\")\n",
    "print(\"Loaded model from disk\")"
   ]
  },
  {
   "cell_type": "code",
   "execution_count": null,
   "metadata": {
    "collapsed": true
   },
   "outputs": [],
   "source": [
    "import requests \n",
    "response_1 = requests.get(\"https://api.darksky.net/forecast/5dc2a0ac470a54428acd4b659678c6ce/37.8267,-122.4233\")\n",
    "print(response_1.status_code)"
   ]
  },
  {
   "cell_type": "code",
   "execution_count": null,
   "metadata": {
    "collapsed": true
   },
   "outputs": [],
   "source": [
    "\n",
    "writeFile =open('response.json', 'wb')\n",
    "writeFile.write(response_1.content)\n",
    "writeFile.close()\n"
   ]
  },
  {
   "cell_type": "code",
   "execution_count": null,
   "metadata": {
    "collapsed": true
   },
   "outputs": [],
   "source": [
    "import pandas as pd\n",
    "df=pd.read_json('response.json')\n",
    "df.shape[0]"
   ]
  },
  {
   "cell_type": "code",
   "execution_count": null,
   "metadata": {
    "collapsed": true
   },
   "outputs": [],
   "source": [
    "def convert_json_list(json_file):\n",
    "    df=pd.read_json('response.json')\n",
    "    df_first=df['currently']\n",
    "    lisa=[16]\n",
    "    lisa.append(df_first['precipIntensity']);\n",
    "    lisa.append(df_first['temperature']);\n",
    "    lisa.append(df_first['humidity']);\n",
    "    lisa.append(df_first['windSpeed']);\n",
    "    lisa.append(df_first['windBearing']);\n",
    "    lisa.append(df_first['visibility']);\n",
    "    lisa.append(df_first['pressure']);\n",
    "    return lisa"
   ]
  },
  {
   "cell_type": "code",
   "execution_count": null,
   "metadata": {
    "collapsed": true
   },
   "outputs": [],
   "source": [
    "v=convert_json_list('response.json')"
   ]
  },
  {
   "cell_type": "code",
   "execution_count": null,
   "metadata": {
    "collapsed": true,
    "scrolled": true
   },
   "outputs": [],
   "source": [
    "import pandas as pd\n",
    "test=pd.DataFrame(v).T\n",
    "test"
   ]
  },
  {
   "cell_type": "code",
   "execution_count": null,
   "metadata": {
    "collapsed": true
   },
   "outputs": [],
   "source": [
    "loaded_model.compile(loss='binary_crossentropy', optimizer='adam', metrics=['accuracy'])\n",
    "\n",
    "\n",
    "#predict the result\n",
    "result = loaded_model.predict(test)\n",
    "\n",
    "print(result)\n",
    "\n",
    "print(loaded_model)"
   ]
  },
  {
   "cell_type": "code",
   "execution_count": null,
   "metadata": {
    "collapsed": true
   },
   "outputs": [],
   "source": [
    "def push_notify(name):\n",
    "    from pusher_push_notifications import PushNotifications\n",
    "    \n",
    "    pn_client=PushNotifications(\n",
    "            instance_id='0d01efca-e3d8-47d6-b3d9-e0ed0fdc1ed4',\n",
    "            secret_key='6D9C1252D544237762429F2F1E9EEC49AE531C1513CA69A96FD715CED1DB07D3',\n",
    "            )\n",
    "    if result<0.45:\n",
    "        response_2=pn_client.publish(\n",
    "            interests=['hello'],\n",
    "            publish_body={'apns':{'aps':{'alert':'Report created'}},\n",
    "                        'fcm':{'notification':{'title':'hello','body':'LIGHTNING!ESCORT TO A SAFE PLACE'}}}\n",
    "        )\n",
    "        print(response_2['publishId'])"
   ]
  },
  {
   "cell_type": "code",
   "execution_count": null,
   "metadata": {
    "collapsed": true
   },
   "outputs": [],
   "source": [
    "push_notify(\"demo\")"
   ]
  },
  {
   "cell_type": "code",
   "execution_count": null,
   "metadata": {
    "collapsed": true
   },
   "outputs": [],
   "source": []
  }
 ],
 "metadata": {
  "kernelspec": {
   "display_name": "Python 3",
   "language": "python",
   "name": "python3"
  },
  "language_info": {
   "codemirror_mode": {
    "name": "ipython",
    "version": 3
   },
   "file_extension": ".py",
   "mimetype": "text/x-python",
   "name": "python",
   "nbconvert_exporter": "python",
   "pygments_lexer": "ipython3",
   "version": "3.6.8"
  }
 },
 "nbformat": 4,
 "nbformat_minor": 2
}
